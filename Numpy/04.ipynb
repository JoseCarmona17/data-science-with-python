{
 "cells": [
  {
   "cell_type": "markdown",
   "id": "93c91baf",
   "metadata": {},
   "source": [
    "# Transposición de matrices"
   ]
  },
  {
   "cell_type": "code",
   "execution_count": 1,
   "id": "884fe967",
   "metadata": {},
   "outputs": [],
   "source": [
    "import numpy as np"
   ]
  },
  {
   "cell_type": "code",
   "execution_count": 2,
   "id": "39cad048",
   "metadata": {},
   "outputs": [
    {
     "name": "stdout",
     "output_type": "stream",
     "text": [
      "[[1 2 3]\n",
      " [4 5 6]\n",
      " [7 8 9]]\n",
      "\n",
      "[[1 4 7]\n",
      " [2 5 8]\n",
      " [3 6 9]]\n"
     ]
    }
   ],
   "source": [
    "matrix = np.array([[1,2,3], [4,5,6], [7,8,9]])\n",
    "transposed_matrix = matrix.T\n",
    "print(matrix)\n",
    "print()\n",
    "print(transposed_matrix)"
   ]
  },
  {
   "cell_type": "markdown",
   "id": "515618e4",
   "metadata": {},
   "source": [
    "### Reshape\n",
    "modifica el tamaño de la matrix"
   ]
  },
  {
   "cell_type": "code",
   "execution_count": 4,
   "id": "e5dd7fa6",
   "metadata": {},
   "outputs": [
    {
     "name": "stdout",
     "output_type": "stream",
     "text": [
      "[ 1  2  3  4  5  6  7  8  9 10 11 12]\n",
      "\n",
      "[[ 1  2  3  4]\n",
      " [ 5  6  7  8]\n",
      " [ 9 10 11 12]]\n"
     ]
    }
   ],
   "source": [
    "array = np.arange(1,13)\n",
    "reshaped_array = array.reshape(3, 4)\n",
    "print(array)\n",
    "print()\n",
    "print(reshaped_array)"
   ]
  },
  {
   "cell_type": "markdown",
   "id": "9a318b91",
   "metadata": {},
   "source": [
    "### Invertir un array"
   ]
  },
  {
   "cell_type": "code",
   "execution_count": 5,
   "id": "809596a4",
   "metadata": {},
   "outputs": [
    {
     "name": "stdout",
     "output_type": "stream",
     "text": [
      "[ 1  2  3  4  5  6  7  8  9 10 11 12]\n",
      "\n",
      "[12 11 10  9  8  7  6  5  4  3  2  1]\n"
     ]
    }
   ],
   "source": [
    "reversed_array = array[::-1]\n",
    "print(array)\n",
    "print()\n",
    "print(reversed_array)"
   ]
  },
  {
   "cell_type": "markdown",
   "id": "46de6ff1",
   "metadata": {},
   "source": [
    "### Flattenning\n",
    "Consiste en convertir un array multidimensional en uno unidimensional"
   ]
  },
  {
   "cell_type": "code",
   "execution_count": 9,
   "id": "8155eaea",
   "metadata": {},
   "outputs": [
    {
     "name": "stdout",
     "output_type": "stream",
     "text": [
      "[[1 2 3]\n",
      " [4 5 6]\n",
      " [7 8 9]]\n",
      "\n",
      "[1 2 3 4 5 6 7 8 9]\n"
     ]
    }
   ],
   "source": [
    "matrix = np.array([[1,2,3], [4,5,6], [7,8,9]])\n",
    "flattened_matrix = matrix.flatten()\n",
    "print(matrix)\n",
    "print()\n",
    "print(flattened_matrix)"
   ]
  }
 ],
 "metadata": {
  "kernelspec": {
   "display_name": "Python 3",
   "language": "python",
   "name": "python3"
  },
  "language_info": {
   "codemirror_mode": {
    "name": "ipython",
    "version": 3
   },
   "file_extension": ".py",
   "mimetype": "text/x-python",
   "name": "python",
   "nbconvert_exporter": "python",
   "pygments_lexer": "ipython3",
   "version": "3.13.1"
  }
 },
 "nbformat": 4,
 "nbformat_minor": 5
}
