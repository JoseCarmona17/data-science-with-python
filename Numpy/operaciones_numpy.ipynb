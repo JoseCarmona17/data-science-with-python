{
 "cells": [
  {
   "cell_type": "markdown",
   "id": "a6b5c4ea",
   "metadata": {},
   "source": [
    "# 1. Operaciones Básicas con Arrays\n",
    "Instrucción: Crea dos arrays de 1D con valores enteros y realiza las operaciones de suma, resta, multiplicación, y división entre ellos."
   ]
  },
  {
   "cell_type": "code",
   "execution_count": 1,
   "id": "183ab86b",
   "metadata": {},
   "outputs": [],
   "source": [
    "import numpy as np"
   ]
  },
  {
   "cell_type": "code",
   "execution_count": 2,
   "id": "9f631b3a",
   "metadata": {},
   "outputs": [
    {
     "name": "stdout",
     "output_type": "stream",
     "text": [
      "Suma:  [11 22 33 44]\n",
      "Resta:  [ 9 18 27 36]\n",
      "Multiplicación:  [ 10  40  90 160]\n",
      "División:  [10. 10. 10. 10.]\n"
     ]
    }
   ],
   "source": [
    "array1 = np.array([10,20,30,40])\n",
    "array2 = np.array([1,2,3,4])\n",
    "\n",
    "suma = array1 + array2\n",
    "resta = array1 - array2\n",
    "multiplicacion = array1 * array2\n",
    "division = array1 / array2\n",
    "\n",
    "print(\"Suma: \", suma)\n",
    "print(\"Resta: \", resta)\n",
    "print(\"Multiplicación: \", multiplicacion)\n",
    "print(\"División: \", division)"
   ]
  },
  {
   "cell_type": "markdown",
   "id": "f162daf9",
   "metadata": {},
   "source": [
    "# 2. Cálculos Estadísticos en Arrays\n",
    "Instrucción: Dado un array de datos, calcula la media, mediana, varianza, y desviación estándar."
   ]
  },
  {
   "cell_type": "code",
   "execution_count": 4,
   "id": "6d224ab8",
   "metadata": {},
   "outputs": [
    {
     "name": "stdout",
     "output_type": "stream",
     "text": [
      "Media:  57.44444444444444\n",
      "Mediana:  67.0\n",
      "Varianza:  484.02469135802465\n",
      "Desviación estándar:  22.000561160071\n"
     ]
    }
   ],
   "source": [
    "datos = np.array([23, 76, 35, 67, 89, 45, 68, 79, 35])\n",
    "\n",
    "media = np.mean(datos)\n",
    "mediana = np.median(datos)\n",
    "varianza = np.var(datos)\n",
    "desviacion = np.std(datos)\n",
    "\n",
    "print(\"Media: \", media)\n",
    "print(\"Mediana: \", mediana)\n",
    "print(\"Varianza: \", varianza)\n",
    "print(\"Desviación estándar: \", desviacion)"
   ]
  },
  {
   "cell_type": "markdown",
   "id": "408e2db0",
   "metadata": {},
   "source": [
    "# 3. Operaciones Matriciales\n",
    "Instrucción: Crea dos matrices de 2x2 y realiza las operaciones de suma, resta, multiplicación (producto matricial) y cálculo de la inversa de una de ellas."
   ]
  },
  {
   "cell_type": "code",
   "execution_count": 3,
   "id": "3d4f73c2",
   "metadata": {},
   "outputs": [
    {
     "name": "stdout",
     "output_type": "stream",
     "text": [
      "Suma de matrices:  [[ 6  8]\n",
      " [10 12]]\n",
      "Resta de matrices:  [[-4 -4]\n",
      " [-4 -4]]\n",
      "Multiplicación de matrices:  [[19 22]\n",
      " [43 50]]\n",
      "Inversa de la matriz:  [[-2.   1. ]\n",
      " [ 1.5 -0.5]]\n"
     ]
    }
   ],
   "source": [
    "matriz1 = np.array([[1,2], [3,4]])\n",
    "matriz2 = np.array([[5,6], [7,8]])\n",
    "\n",
    "suma_matriz = matriz1 + matriz2\n",
    "resta_matriz = matriz1 - matriz2\n",
    "multiplicacion_matriz = np.dot(matriz1, matriz2)\n",
    "inversa_matriz = np.linalg.inv(matriz1)\n",
    "\n",
    "print(\"Suma de matrices: \", suma_matriz)\n",
    "print(\"Resta de matrices: \", resta_matriz)\n",
    "print(\"Multiplicación de matrices: \", multiplicacion_matriz)\n",
    "print(\"Inversa de la matriz: \", inversa_matriz)"
   ]
  },
  {
   "cell_type": "markdown",
   "id": "5a317a97",
   "metadata": {},
   "source": [
    "# 4. Resolución de un Sistema de Ecuaciones Lineales\n",
    "Instrucción: Resuelve el sistema de ecuaciones lineales dado por Ax=b, donde A es una matriz 2x2 y b es un vector de 2 elementos.\n",
    "\n",
    "Ax=bAx = b"
   ]
  },
  {
   "cell_type": "code",
   "execution_count": 5,
   "id": "306a72d5",
   "metadata": {},
   "outputs": [
    {
     "name": "stdout",
     "output_type": "stream",
     "text": [
      "Solución del sistema de ecuaciones: [1. 2.]\n"
     ]
    }
   ],
   "source": [
    "A = np.array([[2, 3], [1, 2]])\n",
    "b = np.array([8, 5])\n",
    "\n",
    "x = np.linalg.solve(A, b)\n",
    "print(\"Solución del sistema de ecuaciones:\", x)"
   ]
  },
  {
   "cell_type": "markdown",
   "id": "cde8873d",
   "metadata": {},
   "source": [
    "# 5. Simulación de Datos\n",
    "Instrucción: Genera un array de 1000 números aleatorios que sigan una distribución normal con media 0 y desviación estándar 1. Calcula la media y desviación estándar del array generado."
   ]
  },
  {
   "cell_type": "code",
   "execution_count": 10,
   "id": "be09fd36",
   "metadata": {},
   "outputs": [
    {
     "name": "stdout",
     "output_type": "stream",
     "text": [
      "Media de los datos simulados: -0.018717146021593457\n",
      "Desviación estándar de los datos simulados: 1.0187001227665262\n"
     ]
    }
   ],
   "source": [
    "datos_simulados = np.random.normal(0, 1, 1000)\n",
    "media_simulada = np.mean(datos_simulados)\n",
    "desviacion_simulada = np.std(datos_simulados)\n",
    "\n",
    "print(\"Media de los datos simulados:\", media_simulada)\n",
    "print(\"Desviación estándar de los datos simulados:\", desviacion_simulada)"
   ]
  }
 ],
 "metadata": {
  "kernelspec": {
   "display_name": "Python 3",
   "language": "python",
   "name": "python3"
  },
  "language_info": {
   "codemirror_mode": {
    "name": "ipython",
    "version": 3
   },
   "file_extension": ".py",
   "mimetype": "text/x-python",
   "name": "python",
   "nbconvert_exporter": "python",
   "pygments_lexer": "ipython3",
   "version": "3.13.1"
  }
 },
 "nbformat": 4,
 "nbformat_minor": 5
}
