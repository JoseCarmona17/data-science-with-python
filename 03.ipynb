{
 "cells": [
  {
   "cell_type": "markdown",
   "id": "8ef94a67",
   "metadata": {},
   "source": [
    "## BroadCasting"
   ]
  },
  {
   "cell_type": "code",
   "execution_count": 1,
   "id": "bde3e77f",
   "metadata": {},
   "outputs": [],
   "source": [
    "import numpy as np"
   ]
  },
  {
   "cell_type": "code",
   "execution_count": 2,
   "id": "d36db871",
   "metadata": {},
   "outputs": [
    {
     "name": "stdout",
     "output_type": "stream",
     "text": [
      "[ 90. 180. 270.]\n"
     ]
    }
   ],
   "source": [
    "prices = np.array([100, 200, 300])\n",
    "discount = np.array([0.9])\n",
    "discount_prices = prices * discount\n",
    "print(discount_prices )\n",
    "# Output: [ 90. 180. 270.]"
   ]
  },
  {
   "cell_type": "code",
   "execution_count": 3,
   "id": "2fb275e1",
   "metadata": {},
   "outputs": [
    {
     "name": "stdout",
     "output_type": "stream",
     "text": [
      "[[403 156 350]\n",
      " [479 316 303]\n",
      " [118 390 230]]\n",
      "\n",
      "[[413 176 380]\n",
      " [489 336 333]\n",
      " [128 410 260]]\n"
     ]
    }
   ],
   "source": [
    "prices = np.random.randint(100,500, size=(3,3))\n",
    "discount = np.array([10,20,30])\n",
    "discount_prices  = prices + discount\n",
    "print(prices)\n",
    "print()\n",
    "print(discount_prices )"
   ]
  },
  {
   "cell_type": "markdown",
   "id": "6ffc5314",
   "metadata": {},
   "source": [
    "Operaciones logicas"
   ]
  },
  {
   "cell_type": "code",
   "execution_count": 4,
   "id": "baba5790",
   "metadata": {},
   "outputs": [
    {
     "name": "stdout",
     "output_type": "stream",
     "text": [
      "False\n"
     ]
    }
   ],
   "source": [
    "array = np.array([1,2,3,4,5])\n",
    "print(np.all(array > 9))"
   ]
  },
  {
   "cell_type": "code",
   "execution_count": 5,
   "id": "416b9c67",
   "metadata": {},
   "outputs": [
    {
     "name": "stdout",
     "output_type": "stream",
     "text": [
      "True\n"
     ]
    }
   ],
   "source": [
    "print(np.any(array > 4))"
   ]
  },
  {
   "cell_type": "markdown",
   "id": "14b469b6",
   "metadata": {},
   "source": [
    "Concatenar"
   ]
  },
  {
   "cell_type": "code",
   "execution_count": 6,
   "id": "03c7c2fb",
   "metadata": {},
   "outputs": [
    {
     "name": "stdout",
     "output_type": "stream",
     "text": [
      "[1 2 3 1 2 3]\n",
      "[1 2 3 4 5 6]\n"
     ]
    }
   ],
   "source": [
    "array_a = np.array([1,2,3])\n",
    "array_b = np.array([4,5,6])\n",
    "concatenated_a = np.concatenate((array_a, array_a))\n",
    "concatenated_ab = np.concatenate((array_a, array_b))\n",
    "print(concatenated_a)\n",
    "print(concatenated_ab)"
   ]
  },
  {
   "cell_type": "markdown",
   "id": "1bf461a3",
   "metadata": {},
   "source": [
    "Stacking"
   ]
  },
  {
   "cell_type": "code",
   "execution_count": 7,
   "id": "26baf52d",
   "metadata": {},
   "outputs": [
    {
     "name": "stdout",
     "output_type": "stream",
     "text": [
      "[[1 2 3]\n",
      " [4 5 6]]\n"
     ]
    }
   ],
   "source": [
    "stacked_v = np.vstack((array_a, array_b))\n",
    "print(stacked_v)"
   ]
  },
  {
   "cell_type": "code",
   "execution_count": 8,
   "id": "adc3e60d",
   "metadata": {},
   "outputs": [
    {
     "name": "stdout",
     "output_type": "stream",
     "text": [
      "[1 2 3 4 5 6]\n"
     ]
    }
   ],
   "source": [
    "stacked_h = np.hstack((array_a, array_b))\n",
    "print(stacked_h)"
   ]
  },
  {
   "cell_type": "markdown",
   "id": "9f12b2c5",
   "metadata": {},
   "source": [
    "Split"
   ]
  },
  {
   "cell_type": "code",
   "execution_count": 9,
   "id": "aba41f61",
   "metadata": {},
   "outputs": [
    {
     "name": "stdout",
     "output_type": "stream",
     "text": [
      "[1 2 3 4 5 6 7 8 9]\n",
      "[array([1, 2, 3]), array([4, 5, 6]), array([7, 8, 9])]\n"
     ]
    }
   ],
   "source": [
    "array_c = np.arange(1, 10)\n",
    "split_array = np.split(array_c, 3)\n",
    "print(array_c)\n",
    "print(split_array)"
   ]
  },
  {
   "cell_type": "markdown",
   "id": "fe1b9d05",
   "metadata": {},
   "source": [
    "# Unique"
   ]
  },
  {
   "cell_type": "code",
   "execution_count": 10,
   "id": "f89ea2f8",
   "metadata": {},
   "outputs": [
    {
     "name": "stdout",
     "output_type": "stream",
     "text": [
      "['bueno' 'excelente' 'malo' 'qa']\n"
     ]
    }
   ],
   "source": [
    "survey_responses = np.array ([\"bueno\", \"excelente\", \"malo\",\n",
    "                              \"bueno\", \"malo\", \"excelente\",\n",
    "                              \"bueno\", \"bueno\", \"malo\",\n",
    "                              \"excelente\", \"qa\"])\n",
    "print(np.unique(survey_responses))"
   ]
  },
  {
   "cell_type": "code",
   "execution_count": 11,
   "id": "2763b57c",
   "metadata": {},
   "outputs": [
    {
     "name": "stdout",
     "output_type": "stream",
     "text": [
      "['bueno' 'excelente' 'malo' 'qa']\n",
      "[4 3 3 1]\n"
     ]
    }
   ],
   "source": [
    "unique_elements, counts = np.unique(survey_responses, return_counts=True)\n",
    "print(unique_elements)\n",
    "print(counts)"
   ]
  },
  {
   "cell_type": "markdown",
   "id": "ba64bc8b",
   "metadata": {},
   "source": [
    "Vistas"
   ]
  },
  {
   "cell_type": "code",
   "execution_count": 12,
   "id": "5e749cc9",
   "metadata": {},
   "outputs": [
    {
     "name": "stdout",
     "output_type": "stream",
     "text": [
      "[0 1 2 3 4 5 6 7 8 9]\n",
      "[1 2]\n",
      "[ 0 10 11  3  4  5  6  7  8  9]\n",
      "[10 11]\n"
     ]
    }
   ],
   "source": [
    "array_x = np.arange(10)\n",
    "view_y = array_x[1:3]\n",
    "print(array_x)\n",
    "print(view_y)\n",
    "array_x[1:3] = [10,11]\n",
    "print(array_x)\n",
    "print(view_y)"
   ]
  },
  {
   "cell_type": "code",
   "execution_count": 13,
   "id": "051c8c7b",
   "metadata": {},
   "outputs": [
    {
     "name": "stdout",
     "output_type": "stream",
     "text": [
      "[0 1 2 3 4 5 6 7 8 9]\n",
      "[1 2]\n",
      "[ 0 10 11  3  4  5  6  7  8  9]\n",
      "[1 2]\n"
     ]
    }
   ],
   "source": [
    "array_x = np.arange(10)\n",
    "copy_x = array_x[[1,2]]\n",
    "print(array_x)\n",
    "print(copy_x)\n",
    "array_x[1:3] = [10,11]\n",
    "print(array_x)\n",
    "print(copy_x)"
   ]
  }
 ],
 "metadata": {
  "kernelspec": {
   "display_name": "Python 3",
   "language": "python",
   "name": "python3"
  },
  "language_info": {
   "codemirror_mode": {
    "name": "ipython",
    "version": 3
   },
   "file_extension": ".py",
   "mimetype": "text/x-python",
   "name": "python",
   "nbconvert_exporter": "python",
   "pygments_lexer": "ipython3",
   "version": "3.13.1"
  }
 },
 "nbformat": 4,
 "nbformat_minor": 5
}
