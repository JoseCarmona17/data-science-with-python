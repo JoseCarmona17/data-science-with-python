{
 "cells": [
  {
   "cell_type": "markdown",
   "id": "1311c601",
   "metadata": {},
   "source": [
    "# Indexación y Slicing\n"
   ]
  },
  {
   "cell_type": "code",
   "execution_count": 3,
   "id": "727cd1c9",
   "metadata": {},
   "outputs": [
    {
     "name": "stdout",
     "output_type": "stream",
     "text": [
      "20\n",
      "50\n"
     ]
    }
   ],
   "source": [
    "import numpy as np\n",
    "\n",
    "array = np.array([10,20,30,40,50])\n",
    "print(array[1])\n",
    "print(array[-1])"
   ]
  },
  {
   "cell_type": "code",
   "execution_count": 5,
   "id": "8764dbe0",
   "metadata": {},
   "outputs": [
    {
     "name": "stdout",
     "output_type": "stream",
     "text": [
      "[20 30 40]\n"
     ]
    }
   ],
   "source": [
    "print(array[1:4])"
   ]
  },
  {
   "cell_type": "code",
   "execution_count": 6,
   "id": "8db09b25",
   "metadata": {},
   "outputs": [
    {
     "name": "stdout",
     "output_type": "stream",
     "text": [
      "[20 30 40 50]\n"
     ]
    }
   ],
   "source": [
    "print(array[1:7])"
   ]
  },
  {
   "cell_type": "code",
   "execution_count": 7,
   "id": "e23828b8",
   "metadata": {},
   "outputs": [
    {
     "name": "stdout",
     "output_type": "stream",
     "text": [
      "[]\n"
     ]
    }
   ],
   "source": [
    "print(array[-1:-7])"
   ]
  },
  {
   "cell_type": "markdown",
   "id": "03b04605",
   "metadata": {},
   "source": [
    "Indexación Booleana"
   ]
  },
  {
   "cell_type": "code",
   "execution_count": 10,
   "id": "d85b1ac0",
   "metadata": {},
   "outputs": [
    {
     "name": "stdout",
     "output_type": "stream",
     "text": [
      "[False False  True  True  True]\n",
      "<class 'numpy.ndarray'>\n"
     ]
    }
   ],
   "source": [
    "array = np.array([10,20,30,40,50])\n",
    "bool_index = array > 25\n",
    "print(bool_index)\n",
    "print(type(bool_index))"
   ]
  },
  {
   "cell_type": "code",
   "execution_count": 13,
   "id": "2fb912c6",
   "metadata": {},
   "outputs": [
    {
     "name": "stdout",
     "output_type": "stream",
     "text": [
      "[30 10 50]\n"
     ]
    }
   ],
   "source": [
    "index = [2,0,4]\n",
    "print(array[index])"
   ]
  },
  {
   "cell_type": "code",
   "execution_count": 16,
   "id": "5632e22d",
   "metadata": {},
   "outputs": [
    {
     "name": "stdout",
     "output_type": "stream",
     "text": [
      "[[6 5 3]\n",
      " [3 5 6]\n",
      " [4 1 8]]\n",
      "5\n"
     ]
    }
   ],
   "source": [
    "array = np.random.randint(1, 10, size=(3,3))\n",
    "print(array)\n",
    "print(array[0,1])"
   ]
  },
  {
   "cell_type": "code",
   "execution_count": 17,
   "id": "750da534",
   "metadata": {},
   "outputs": [
    {
     "name": "stdout",
     "output_type": "stream",
     "text": [
      "[[6 5]\n",
      " [3 5]]\n"
     ]
    }
   ],
   "source": [
    "print(array[:2, :2])"
   ]
  },
  {
   "cell_type": "markdown",
   "id": "d1148f71",
   "metadata": {},
   "source": [
    "# Ejercicios"
   ]
  },
  {
   "cell_type": "markdown",
   "id": "e4f517bc",
   "metadata": {},
   "source": [
    "1. Acceder a elementos específicos:\n",
    "Crea un arreglo de 10 números y accede al cuarto y penúltimo elemento usando índices positivos y negativos."
   ]
  },
  {
   "cell_type": "code",
   "execution_count": 19,
   "id": "11dfb816",
   "metadata": {},
   "outputs": [
    {
     "name": "stdout",
     "output_type": "stream",
     "text": [
      "[4 5 6 7 8 9]\n"
     ]
    }
   ],
   "source": [
    "arreglo = np.array([1,2,3,4,5,6,7,8,9,10])\n",
    "print(arreglo[3:-1])"
   ]
  },
  {
   "cell_type": "markdown",
   "id": "1fea849d",
   "metadata": {},
   "source": [
    "2. Slicing de arreglos:\n",
    "Dado un arreglo de números del 1 al 20, extrae los elementos entre las posiciones 3 y 7, y luego los elementos de las últimas 5 posiciones."
   ]
  },
  {
   "cell_type": "code",
   "execution_count": 25,
   "id": "984dee63",
   "metadata": {},
   "outputs": [
    {
     "name": "stdout",
     "output_type": "stream",
     "text": [
      "[4 5 6 7]\n",
      "[16 17 18 19 20]\n"
     ]
    }
   ],
   "source": [
    "arreglo = np.array([1,2,3,4,5,6,7,8,9,10,11,12,13,14,15,16,17,18,19,20])\n",
    "print(arreglo[3:7])\n",
    "print(arreglo[-5:])"
   ]
  },
  {
   "cell_type": "markdown",
   "id": "97a3c45f",
   "metadata": {},
   "source": [
    "3. Indexing con booleanos:\n",
    "Crea un arreglo de números aleatorios entre 0 y 100. Usa una expresión booleana para acceder solo a los números mayores a 50."
   ]
  },
  {
   "cell_type": "code",
   "execution_count": 31,
   "id": "b4e4a81d",
   "metadata": {},
   "outputs": [
    {
     "name": "stdout",
     "output_type": "stream",
     "text": [
      "[False False False False False  True False False False  True False False\n",
      " False  True  True  True  True False False False  True  True False  True\n",
      "  True  True  True  True  True False False  True  True False False  True\n",
      " False False  True  True  True False False  True  True False False  True\n",
      " False False  True False  True  True False False False False  True False\n",
      "  True  True False  True  True False False False  True False  True False\n",
      " False False False  True  True False False False False  True False False\n",
      "  True False  True False False False False False  True  True False  True\n",
      "  True False False False]\n"
     ]
    }
   ],
   "source": [
    "arreglo = np.random.randint(1, 100, size=100)\n",
    "bool_index = arreglo > 50\n",
    "print(bool_index)"
   ]
  },
  {
   "cell_type": "markdown",
   "id": "8e2a5cc0",
   "metadata": {},
   "source": [
    "4. Indexación con múltiples índices:\n",
    "Dado un arreglo de 8 elementos, crea una lista de índices para acceder a los elementos en las posiciones 1, 4, y 6."
   ]
  },
  {
   "cell_type": "code",
   "execution_count": 37,
   "id": "b90dac3c",
   "metadata": {},
   "outputs": [
    {
     "name": "stdout",
     "output_type": "stream",
     "text": [
      "[20 50 70]\n"
     ]
    }
   ],
   "source": [
    "arreglo = np.array([10,20,30,40,50,60,70,80])\n",
    "index = [1,4,6]\n",
    "print(arreglo[index])"
   ]
  },
  {
   "cell_type": "markdown",
   "id": "ef1db967",
   "metadata": {},
   "source": [
    "5. Matrices bidimensionales:\n",
    "Genera una matriz 4x4 de números aleatorios entre 10 y 50, y accede a la submatriz de 2x2 ubicada en la esquina inferior derecha."
   ]
  },
  {
   "cell_type": "code",
   "execution_count": 41,
   "id": "6f773b92",
   "metadata": {},
   "outputs": [
    {
     "name": "stdout",
     "output_type": "stream",
     "text": [
      "[[37 33 35 22]\n",
      " [36 32 27 25]\n",
      " [11 27 38 32]\n",
      " [15 14 21 15]]\n",
      "\n",
      "[[38 32]\n",
      " [21 15]]\n"
     ]
    }
   ],
   "source": [
    "arreglo = np.random.randint(10, 50, size=(4, 4))\n",
    "print(arreglo)\n",
    "print()\n",
    "print(arreglo[2:,2:])"
   ]
  }
 ],
 "metadata": {
  "kernelspec": {
   "display_name": "Python 3",
   "language": "python",
   "name": "python3"
  },
  "language_info": {
   "codemirror_mode": {
    "name": "ipython",
    "version": 3
   },
   "file_extension": ".py",
   "mimetype": "text/x-python",
   "name": "python",
   "nbconvert_exporter": "python",
   "pygments_lexer": "ipython3",
   "version": "3.13.1"
  }
 },
 "nbformat": 4,
 "nbformat_minor": 5
}
