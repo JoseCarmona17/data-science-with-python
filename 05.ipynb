{
 "cells": [
  {
   "cell_type": "markdown",
   "id": "892ad4fc",
   "metadata": {},
   "source": [
    "# Calculo Matriciales"
   ]
  },
  {
   "cell_type": "code",
   "execution_count": 1,
   "id": "983be28e",
   "metadata": {},
   "outputs": [],
   "source": [
    "import numpy as np"
   ]
  },
  {
   "cell_type": "code",
   "execution_count": 2,
   "id": "a8d1b360",
   "metadata": {},
   "outputs": [
    {
     "name": "stdout",
     "output_type": "stream",
     "text": [
      "[[1 2]\n",
      " [3 4]]\n",
      "[[5 6]\n",
      " [7 8]]\n",
      "Suma:\n",
      " [[ 6  8]\n",
      " [10 12]]\n"
     ]
    }
   ],
   "source": [
    "A = np.array([[1,2], [3,4]])\n",
    "B = np.array([[5,6], [7,8]])\n",
    "\n",
    "# suma\n",
    "sum = A + B\n",
    "print(A)\n",
    "print(B)\n",
    "print(\"Suma:\\n\", sum)"
   ]
  },
  {
   "cell_type": "code",
   "execution_count": 3,
   "id": "02d7cb78",
   "metadata": {},
   "outputs": [
    {
     "name": "stdout",
     "output_type": "stream",
     "text": [
      "Multiplicación:\n",
      " [[19 22]\n",
      " [43 50]]\n"
     ]
    }
   ],
   "source": [
    "#Multiplicación\n",
    "produc = np.dot(A, B)\n",
    "print(\"Multiplicación:\\n\", produc)"
   ]
  },
  {
   "cell_type": "code",
   "execution_count": 6,
   "id": "0dbfb4a9",
   "metadata": {},
   "outputs": [
    {
     "name": "stdout",
     "output_type": "stream",
     "text": [
      "[[1 2]\n",
      " [3 4]]\n",
      "Determinante de A:\n",
      " -2.0000000000000004\n",
      "Inversa de A:\n",
      " [[-2.   1. ]\n",
      " [ 1.5 -0.5]]\n"
     ]
    }
   ],
   "source": [
    "#Determinante\n",
    "A = np.array([[1,2], [3,4]])\n",
    "det_A = np.linalg.det(A)\n",
    "inv_A = np.linalg.inv(A)\n",
    "print(A)\n",
    "print(\"Determinante de A:\\n\", det_A)\n",
    "print(\"Inversa de A:\\n\", inv_A)"
   ]
  },
  {
   "cell_type": "markdown",
   "id": "93d88b4f",
   "metadata": {},
   "source": [
    "# Sistema de ecuaciones\n",
    "resolver ax = b"
   ]
  },
  {
   "cell_type": "code",
   "execution_count": 7,
   "id": "5228ad00",
   "metadata": {},
   "outputs": [
    {
     "name": "stdout",
     "output_type": "stream",
     "text": [
      "Solución del sistema Ax = b:\n",
      " [-7.  8.]\n"
     ]
    }
   ],
   "source": [
    "b = np.array([9,11])\n",
    "x = np.linalg.solve(A, b)\n",
    "print(\"Solución del sistema Ax = b:\\n\", x)"
   ]
  }
 ],
 "metadata": {
  "kernelspec": {
   "display_name": "Python 3",
   "language": "python",
   "name": "python3"
  },
  "language_info": {
   "codemirror_mode": {
    "name": "ipython",
    "version": 3
   },
   "file_extension": ".py",
   "mimetype": "text/x-python",
   "name": "python",
   "nbconvert_exporter": "python",
   "pygments_lexer": "ipython3",
   "version": "3.13.1"
  }
 },
 "nbformat": 4,
 "nbformat_minor": 5
}
