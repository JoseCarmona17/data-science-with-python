{
 "cells": [
  {
   "cell_type": "markdown",
   "id": "d92c4309",
   "metadata": {},
   "source": [
    "# Pivot tables\n",
    "Restauración de datos: Pivot y Reshape en Pandas"
   ]
  },
  {
   "cell_type": "code",
   "execution_count": 2,
   "id": "0a09188f",
   "metadata": {},
   "outputs": [],
   "source": [
    "import pandas as pd\n",
    "\n",
    "sales_data = pd.read_csv('Online_Retail.csv', encoding='latin1')"
   ]
  },
  {
   "cell_type": "code",
   "execution_count": null,
   "id": "90459428",
   "metadata": {},
   "outputs": [
    {
     "name": "stdout",
     "output_type": "stream",
     "text": [
      "StockCode             10002  10080  10120  10123C  10123G  10124A  10124G  \\\n",
      "Country                                                                     \n",
      "Australia               NaN    NaN    NaN     NaN     NaN     NaN     NaN   \n",
      "Austria                 NaN    NaN    NaN     NaN     NaN     NaN     NaN   \n",
      "Bahrain                 NaN    NaN    NaN     NaN     NaN     NaN     NaN   \n",
      "Belgium                 NaN    NaN    NaN     NaN     NaN     NaN     NaN   \n",
      "Brazil                  NaN    NaN    NaN     NaN     NaN     NaN     NaN   \n",
      "Canada                  NaN    NaN    NaN     NaN     NaN     NaN     NaN   \n",
      "Channel Islands         NaN    NaN    NaN     NaN     NaN     NaN     NaN   \n",
      "Cyprus                  NaN    NaN    NaN     NaN     NaN     NaN     NaN   \n",
      "Czech Republic          NaN    NaN    NaN     NaN     NaN     NaN     NaN   \n",
      "Denmark                 NaN    NaN    NaN     NaN     NaN     NaN     NaN   \n",
      "EIRE                   12.0    NaN    NaN     NaN     NaN     NaN     NaN   \n",
      "European Community      NaN    NaN    NaN     NaN     NaN     NaN     NaN   \n",
      "Finland                 NaN    NaN    NaN     NaN     NaN     NaN     NaN   \n",
      "France                372.0    NaN   10.0     NaN     NaN     NaN     NaN   \n",
      "Germany                 1.0    NaN    NaN     NaN     NaN     NaN     NaN   \n",
      "Greece                  NaN    NaN    NaN     NaN     NaN     NaN     NaN   \n",
      "Hong Kong               NaN    NaN    NaN     NaN     NaN     NaN     NaN   \n",
      "Iceland                 NaN    NaN    NaN     NaN     NaN     NaN     NaN   \n",
      "Israel                  NaN    NaN    NaN     NaN     NaN     NaN     NaN   \n",
      "Italy                   NaN    NaN    NaN     NaN     NaN     NaN     NaN   \n",
      "Japan                   1.0    NaN    NaN     NaN     NaN     NaN     NaN   \n",
      "Lebanon                 NaN    NaN    NaN     NaN     NaN     NaN     NaN   \n",
      "Lithuania               NaN    NaN    NaN     NaN     NaN     NaN     NaN   \n",
      "Malta                   NaN    NaN    NaN     NaN     NaN     NaN     NaN   \n",
      "Netherlands             NaN    NaN    NaN     NaN     NaN     NaN     NaN   \n",
      "Norway                  NaN    NaN    NaN     NaN     NaN     NaN     NaN   \n",
      "Poland                  NaN    NaN    NaN     NaN     NaN     NaN     NaN   \n",
      "Portugal                NaN    NaN    NaN     NaN     NaN     NaN     NaN   \n",
      "RSA                     NaN    NaN    NaN     NaN     NaN     NaN     NaN   \n",
      "Saudi Arabia            NaN    NaN    NaN     NaN     NaN     NaN     NaN   \n",
      "Singapore               NaN    NaN    NaN     NaN     NaN     NaN     NaN   \n",
      "Spain                  24.0    NaN    NaN     NaN     NaN     NaN     NaN   \n",
      "Sweden                  NaN    NaN    NaN     NaN     NaN     NaN     NaN   \n",
      "Switzerland            12.0    NaN    NaN     NaN     NaN     NaN     NaN   \n",
      "USA                     NaN    NaN    NaN     NaN     NaN     NaN     NaN   \n",
      "United Arab Emirates    NaN    NaN    NaN     NaN     NaN     NaN     NaN   \n",
      "United Kingdom        615.0  495.0  183.0   -13.0   -38.0    16.0    17.0   \n",
      "Unspecified             NaN    NaN    NaN     NaN     NaN     NaN     NaN   \n",
      "\n",
      "StockCode             10125   10133  10134  ...       M  PADS    POST     S  \\\n",
      "Country                                     ...                               \n",
      "Australia               NaN     NaN    NaN  ...     NaN   NaN     0.0   NaN   \n",
      "Austria                 NaN     NaN    NaN  ...     NaN   NaN    37.0   NaN   \n",
      "Bahrain                 NaN     NaN    NaN  ...     NaN   NaN     NaN   NaN   \n",
      "Belgium                 NaN     NaN    NaN  ...     NaN   NaN   272.0   NaN   \n",
      "Brazil                  NaN     NaN    NaN  ...     NaN   NaN     NaN   NaN   \n",
      "Canada                  NaN    40.0    NaN  ...     NaN   NaN     1.0   NaN   \n",
      "Channel Islands         NaN     NaN    NaN  ...     0.0   NaN     NaN   NaN   \n",
      "Cyprus                  NaN     NaN    NaN  ...     0.0   NaN     1.0   NaN   \n",
      "Czech Republic          NaN     NaN    NaN  ...     NaN   NaN     0.0   NaN   \n",
      "Denmark                 NaN     NaN    NaN  ...     NaN   NaN    41.0   NaN   \n",
      "EIRE                    NaN    40.0    NaN  ...    -2.0   NaN     NaN   NaN   \n",
      "European Community      NaN     NaN    NaN  ...     NaN   NaN     9.0   NaN   \n",
      "Finland                 NaN     NaN    NaN  ...     2.0   NaN    89.0   NaN   \n",
      "France                470.0     NaN    NaN  ...   -16.0   NaN   803.0   NaN   \n",
      "Germany               120.0     NaN    NaN  ...     2.0   NaN  1104.0   NaN   \n",
      "Greece                  NaN     NaN    NaN  ...     NaN   NaN     6.0   NaN   \n",
      "Hong Kong               NaN     NaN    NaN  ...     0.0   NaN     2.0   NaN   \n",
      "Iceland                 NaN     NaN    NaN  ...     NaN   NaN     NaN   NaN   \n",
      "Israel                  NaN    20.0    NaN  ...     NaN   NaN     NaN   NaN   \n",
      "Italy                   NaN     NaN    NaN  ...    -1.0   NaN    44.0   NaN   \n",
      "Japan                   NaN     NaN    NaN  ...    -3.0   NaN     NaN   NaN   \n",
      "Lebanon                 NaN     NaN    NaN  ...     NaN   NaN     NaN   NaN   \n",
      "Lithuania               NaN     NaN    NaN  ...     NaN   NaN     NaN   NaN   \n",
      "Malta                   NaN     NaN    NaN  ...     NaN   NaN    10.0   NaN   \n",
      "Netherlands             NaN     NaN    NaN  ...  -480.0   NaN    99.0   NaN   \n",
      "Norway                  NaN     NaN    NaN  ...     0.0   NaN    57.0   NaN   \n",
      "Poland                  NaN     NaN    NaN  ...     NaN   NaN     9.0   NaN   \n",
      "Portugal                NaN    20.0    NaN  ...     1.0   NaN    97.0   NaN   \n",
      "RSA                     NaN     NaN    NaN  ...     1.0   NaN     NaN   NaN   \n",
      "Saudi Arabia            NaN     NaN    NaN  ...     NaN   NaN     NaN   NaN   \n",
      "Singapore               NaN     NaN    NaN  ...     0.0   NaN     NaN   NaN   \n",
      "Spain                   NaN     NaN    NaN  ...    -3.0   NaN   209.0   NaN   \n",
      "Sweden                  NaN     NaN    NaN  ...     1.0   NaN    37.0   NaN   \n",
      "Switzerland            20.0    10.0    NaN  ...     NaN   NaN    97.0   NaN   \n",
      "USA                     NaN     NaN    NaN  ...     NaN   NaN     NaN   NaN   \n",
      "United Arab Emirates    NaN     NaN    NaN  ...     NaN   NaN     1.0   NaN   \n",
      "United Kingdom        686.0  2645.0  -19.0  ...  3662.0   4.0  3328.0 -59.0   \n",
      "Unspecified             NaN     NaN    NaN  ...     NaN   NaN     NaN   NaN   \n",
      "\n",
      "StockCode             gift_0001_10  gift_0001_20  gift_0001_30  gift_0001_40  \\\n",
      "Country                                                                        \n",
      "Australia                      NaN           NaN           NaN           NaN   \n",
      "Austria                        NaN           NaN           NaN           NaN   \n",
      "Bahrain                        NaN           NaN           NaN           NaN   \n",
      "Belgium                        NaN           NaN           NaN           NaN   \n",
      "Brazil                         NaN           NaN           NaN           NaN   \n",
      "Canada                         NaN           NaN           NaN           NaN   \n",
      "Channel Islands                NaN           NaN           NaN           NaN   \n",
      "Cyprus                         NaN           NaN           NaN           NaN   \n",
      "Czech Republic                 NaN           NaN           NaN           NaN   \n",
      "Denmark                        NaN           NaN           NaN           NaN   \n",
      "EIRE                           NaN           NaN           NaN           NaN   \n",
      "European Community             NaN           NaN           NaN           NaN   \n",
      "Finland                        NaN           NaN           NaN           NaN   \n",
      "France                         NaN           NaN           NaN           NaN   \n",
      "Germany                        NaN           NaN           NaN           NaN   \n",
      "Greece                         NaN           NaN           NaN           NaN   \n",
      "Hong Kong                      NaN           NaN           NaN           NaN   \n",
      "Iceland                        NaN           NaN           NaN           NaN   \n",
      "Israel                         NaN           NaN           NaN           NaN   \n",
      "Italy                          NaN           NaN           NaN           NaN   \n",
      "Japan                          NaN           NaN           NaN           NaN   \n",
      "Lebanon                        NaN           NaN           NaN           NaN   \n",
      "Lithuania                      NaN           NaN           NaN           NaN   \n",
      "Malta                          NaN           NaN           NaN           NaN   \n",
      "Netherlands                    NaN           NaN           NaN           NaN   \n",
      "Norway                         NaN           NaN           NaN           NaN   \n",
      "Poland                         NaN           NaN           NaN           NaN   \n",
      "Portugal                       NaN           NaN           NaN           NaN   \n",
      "RSA                            NaN           NaN           NaN           NaN   \n",
      "Saudi Arabia                   NaN           NaN           NaN           NaN   \n",
      "Singapore                      NaN           NaN           NaN           NaN   \n",
      "Spain                          NaN           NaN           NaN           NaN   \n",
      "Sweden                         NaN           NaN           NaN           NaN   \n",
      "Switzerland                    NaN           NaN           NaN           NaN   \n",
      "USA                            NaN           NaN           NaN           NaN   \n",
      "United Arab Emirates           NaN           NaN           NaN           NaN   \n",
      "United Kingdom                39.0          20.0          37.0           3.0   \n",
      "Unspecified                    NaN           NaN           NaN           NaN   \n",
      "\n",
      "StockCode             gift_0001_50    m  \n",
      "Country                                  \n",
      "Australia                      NaN  NaN  \n",
      "Austria                        NaN  NaN  \n",
      "Bahrain                        NaN  NaN  \n",
      "Belgium                        NaN  NaN  \n",
      "Brazil                         NaN  NaN  \n",
      "Canada                         NaN  NaN  \n",
      "Channel Islands                NaN  NaN  \n",
      "Cyprus                         NaN  NaN  \n",
      "Czech Republic                 NaN  NaN  \n",
      "Denmark                        NaN  NaN  \n",
      "EIRE                           NaN  NaN  \n",
      "European Community             NaN  NaN  \n",
      "Finland                        NaN  NaN  \n",
      "France                         NaN  NaN  \n",
      "Germany                        NaN  NaN  \n",
      "Greece                         NaN  NaN  \n",
      "Hong Kong                      NaN  NaN  \n",
      "Iceland                        NaN  NaN  \n",
      "Israel                         NaN  NaN  \n",
      "Italy                          NaN  NaN  \n",
      "Japan                          NaN  NaN  \n",
      "Lebanon                        NaN  NaN  \n",
      "Lithuania                      NaN  NaN  \n",
      "Malta                          NaN  NaN  \n",
      "Netherlands                    NaN  NaN  \n",
      "Norway                         NaN  NaN  \n",
      "Poland                         NaN  NaN  \n",
      "Portugal                       NaN  NaN  \n",
      "RSA                            NaN  NaN  \n",
      "Saudi Arabia                   NaN  NaN  \n",
      "Singapore                      NaN  NaN  \n",
      "Spain                          NaN  NaN  \n",
      "Sweden                         NaN  NaN  \n",
      "Switzerland                    NaN  NaN  \n",
      "USA                            NaN  NaN  \n",
      "United Arab Emirates           NaN  NaN  \n",
      "United Kingdom                 4.0  1.0  \n",
      "Unspecified                    NaN  NaN  \n",
      "\n",
      "[38 rows x 4070 columns]\n"
     ]
    }
   ],
   "source": [
    "povit_table = pd.pivot_table(sales_data, values = 'Quantity', index = 'Country', columns = 'StockCode', aggfunc = 'sum')\n",
    "\n",
    "print(povit_table)"
   ]
  },
  {
   "cell_type": "code",
   "execution_count": 5,
   "id": "87cfb446",
   "metadata": {},
   "outputs": [
    {
     "name": "stdout",
     "output_type": "stream",
     "text": [
      "     A  B  C\n",
      "0  foo  1  4\n",
      "1  bar  2  5\n",
      "2  baz  3  6\n"
     ]
    }
   ],
   "source": [
    "df = pd.DataFrame({\n",
    "    'A': ['foo', 'bar', 'baz'],\n",
    "    'B': [1, 2, 3],\n",
    "    'C': [4, 5, 6]\n",
    "})\n",
    "print(df)"
   ]
  },
  {
   "cell_type": "code",
   "execution_count": 8,
   "id": "cd02f3c6",
   "metadata": {},
   "outputs": [
    {
     "name": "stdout",
     "output_type": "stream",
     "text": [
      "0  A    foo\n",
      "   B      1\n",
      "   C      4\n",
      "1  A    bar\n",
      "   B      2\n",
      "   C      5\n",
      "2  A    baz\n",
      "   B      3\n",
      "   C      6\n",
      "dtype: object\n"
     ]
    }
   ],
   "source": [
    "df_stacked = df.stack()\n",
    "print(df_stacked)"
   ]
  },
  {
   "cell_type": "code",
   "execution_count": 9,
   "id": "c1b2933c",
   "metadata": {},
   "outputs": [
    {
     "name": "stdout",
     "output_type": "stream",
     "text": [
      "     A  B  C\n",
      "0  foo  1  4\n",
      "1  bar  2  5\n",
      "2  baz  3  6\n"
     ]
    }
   ],
   "source": [
    "df_unstacked = df_stacked.unstack()\n",
    "print(df_unstacked)"
   ]
  },
  {
   "cell_type": "code",
   "execution_count": 10,
   "id": "f45a3699",
   "metadata": {},
   "outputs": [
    {
     "name": "stdout",
     "output_type": "stream",
     "text": [
      "0       InvoiceNo                                  536365\n",
      "        StockCode                                  85123A\n",
      "        Description    WHITE HANGING HEART T-LIGHT HOLDER\n",
      "        Quantity                                        6\n",
      "        InvoiceDate                          12/1/10 8:26\n",
      "                                      ...                \n",
      "541908  Quantity                                        3\n",
      "        InvoiceDate                         12/9/11 12:50\n",
      "        UnitPrice                                    4.95\n",
      "        CustomerID                                12680.0\n",
      "        Country                                    France\n",
      "Length: 4198738, dtype: object\n"
     ]
    }
   ],
   "source": [
    "df_sales_stacked = sales_data.stack()\n",
    "print(df_sales_stacked)"
   ]
  },
  {
   "cell_type": "code",
   "execution_count": 11,
   "id": "1bdac489",
   "metadata": {},
   "outputs": [
    {
     "name": "stdout",
     "output_type": "stream",
     "text": [
      "       InvoiceNo StockCode                          Description Quantity  \\\n",
      "0         536365    85123A   WHITE HANGING HEART T-LIGHT HOLDER        6   \n",
      "1         536365     71053                  WHITE METAL LANTERN        6   \n",
      "2         536365    84406B       CREAM CUPID HEARTS COAT HANGER        8   \n",
      "3         536365    84029G  KNITTED UNION FLAG HOT WATER BOTTLE        6   \n",
      "4         536365    84029E       RED WOOLLY HOTTIE WHITE HEART.        6   \n",
      "...          ...       ...                                  ...      ...   \n",
      "541904    581587     22613          PACK OF 20 SPACEBOY NAPKINS       12   \n",
      "541905    581587     22899         CHILDREN'S APRON DOLLY GIRL         6   \n",
      "541906    581587     23254        CHILDRENS CUTLERY DOLLY GIRL         4   \n",
      "541907    581587     23255      CHILDRENS CUTLERY CIRCUS PARADE        4   \n",
      "541908    581587     22138        BAKING SET 9 PIECE RETROSPOT         3   \n",
      "\n",
      "          InvoiceDate UnitPrice CustomerID         Country  \n",
      "0        12/1/10 8:26      2.55    17850.0  United Kingdom  \n",
      "1        12/1/10 8:26      3.39    17850.0  United Kingdom  \n",
      "2        12/1/10 8:26      2.75    17850.0  United Kingdom  \n",
      "3        12/1/10 8:26      3.39    17850.0  United Kingdom  \n",
      "4        12/1/10 8:26      3.39    17850.0  United Kingdom  \n",
      "...               ...       ...        ...             ...  \n",
      "541904  12/9/11 12:50      0.85    12680.0          France  \n",
      "541905  12/9/11 12:50       2.1    12680.0          France  \n",
      "541906  12/9/11 12:50      4.15    12680.0          France  \n",
      "541907  12/9/11 12:50      4.15    12680.0          France  \n",
      "541908  12/9/11 12:50      4.95    12680.0          France  \n",
      "\n",
      "[541909 rows x 8 columns]\n"
     ]
    }
   ],
   "source": [
    "df_sales_unstacked = df_sales_stacked.unstack()\n",
    "print(df_sales_unstacked)"
   ]
  },
  {
   "cell_type": "markdown",
   "id": "2b7988da",
   "metadata": {},
   "source": [
    "# Merge, Concat y Join"
   ]
  },
  {
   "cell_type": "code",
   "execution_count": 13,
   "id": "a9cbb5bc",
   "metadata": {},
   "outputs": [
    {
     "name": "stdout",
     "output_type": "stream",
     "text": [
      "  key  value1\n",
      "0   A       1\n",
      "1   B       2\n",
      "2   C       3\n",
      "  key  value2\n",
      "0   B       4\n",
      "1   C       5\n",
      "2   D       6\n"
     ]
    }
   ],
   "source": [
    "# crear un dataframe de ejemplo\n",
    "df1 = pd.DataFrame({\n",
    "    'key': ['A', 'B', 'C'],\n",
    "    'value1': [1, 2, 3],\n",
    "})\n",
    "\n",
    "df2 = pd.DataFrame({\n",
    "    'key': ['B', 'C', 'D'],\n",
    "    'value2': [4, 5, 6],\n",
    "})\n",
    "\n",
    "print(df1)\n",
    "print(df2)"
   ]
  },
  {
   "cell_type": "code",
   "execution_count": 15,
   "id": "cf0c6432",
   "metadata": {},
   "outputs": [
    {
     "name": "stdout",
     "output_type": "stream",
     "text": [
      "  key  value1  value2\n",
      "0   B       2       4\n",
      "1   C       3       5\n"
     ]
    }
   ],
   "source": [
    "inner_merge = pd.merge(df1, df2, on='key', how='inner')\n",
    "print(inner_merge)"
   ]
  },
  {
   "cell_type": "code",
   "execution_count": 17,
   "id": "95d3d4a5",
   "metadata": {},
   "outputs": [
    {
     "name": "stdout",
     "output_type": "stream",
     "text": [
      "  key  value1  value2\n",
      "0   A     1.0     NaN\n",
      "1   B     2.0     4.0\n",
      "2   C     3.0     5.0\n",
      "3   D     NaN     6.0\n"
     ]
    }
   ],
   "source": [
    "outer_merged = pd.merge(df1, df2, on='key', how='outer')\n",
    "print(outer_merged)"
   ]
  },
  {
   "cell_type": "code",
   "execution_count": 18,
   "id": "524bc224",
   "metadata": {},
   "outputs": [
    {
     "name": "stdout",
     "output_type": "stream",
     "text": [
      "  key  value1  value2\n",
      "0   A       1     NaN\n",
      "1   B       2     4.0\n",
      "2   C       3     5.0\n"
     ]
    }
   ],
   "source": [
    "left_merged = pd.merge(df1, df2, on='key', how='left')\n",
    "print(left_merged)"
   ]
  },
  {
   "cell_type": "code",
   "execution_count": 19,
   "id": "17081744",
   "metadata": {},
   "outputs": [
    {
     "name": "stdout",
     "output_type": "stream",
     "text": [
      "  key  value1  value2\n",
      "0   B     2.0       4\n",
      "1   C     3.0       5\n",
      "2   D     NaN       6\n"
     ]
    }
   ],
   "source": [
    "right_merged = pd.merge(df1, df2, on='key', how='right')\n",
    "print(right_merged)"
   ]
  },
  {
   "cell_type": "markdown",
   "id": "7179cea2",
   "metadata": {},
   "source": [
    "Concat"
   ]
  },
  {
   "cell_type": "code",
   "execution_count": 20,
   "id": "5e31b818",
   "metadata": {},
   "outputs": [
    {
     "name": "stdout",
     "output_type": "stream",
     "text": [
      "    A   B\n",
      "0  A0  B0\n",
      "1  A1  B1\n",
      "2  A2  B2\n",
      "    A   B\n",
      "0  A3  B3\n",
      "1  A4  B4\n",
      "2  A5  B5\n"
     ]
    }
   ],
   "source": [
    "df3 = pd.DataFrame({\n",
    "    'A': ['A0', 'A1',  'A2'],\n",
    "    'B': ['B0', 'B1', 'B2'],\n",
    "})\n",
    "\n",
    "df4 = pd.DataFrame({\n",
    "    'A': ['A3', 'A4',  'A5'],\n",
    "    'B': ['B3', 'B4', 'B5'],\n",
    "})\n",
    "\n",
    "print(df3)\n",
    "print(df4)"
   ]
  },
  {
   "cell_type": "code",
   "execution_count": 21,
   "id": "1405002d",
   "metadata": {},
   "outputs": [
    {
     "name": "stdout",
     "output_type": "stream",
     "text": [
      "    A   B\n",
      "0  A0  B0\n",
      "1  A1  B1\n",
      "2  A2  B2\n",
      "0  A3  B3\n",
      "1  A4  B4\n",
      "2  A5  B5\n"
     ]
    }
   ],
   "source": [
    "vertical_concat = pd.concat([df3, df4])\n",
    "print(vertical_concat)"
   ]
  },
  {
   "cell_type": "code",
   "execution_count": 22,
   "id": "a4860628",
   "metadata": {},
   "outputs": [
    {
     "name": "stdout",
     "output_type": "stream",
     "text": [
      "    A   B   A   B\n",
      "0  A0  B0  A3  B3\n",
      "1  A1  B1  A4  B4\n",
      "2  A2  B2  A5  B5\n"
     ]
    }
   ],
   "source": [
    "hotizontal_concat = pd.concat([df3, df4], axis=1)\n",
    "print(hotizontal_concat)"
   ]
  },
  {
   "cell_type": "markdown",
   "id": "2b0940da",
   "metadata": {},
   "source": [
    "Join"
   ]
  },
  {
   "cell_type": "code",
   "execution_count": 33,
   "id": "173ac5be",
   "metadata": {},
   "outputs": [
    {
     "name": "stdout",
     "output_type": "stream",
     "text": [
      "     A   B\n",
      "K0  A0  B0\n",
      "K1  A1  B1\n",
      "K2  A2  B2\n",
      "     C   D\n",
      "K0  C0  D0\n",
      "K2  C1  D1\n",
      "K3  C2  D2\n"
     ]
    }
   ],
   "source": [
    "df5 = pd.DataFrame({\n",
    "    'A': ['A0', 'A1', 'A2'],\n",
    "    'B': ['B0', 'B1', 'B2']\n",
    "  }, \n",
    "  index = ['K0', 'K1', 'K2']\n",
    ") \n",
    "\n",
    "df6 = pd.DataFrame({\n",
    "    'C': ['C0', 'C1', 'C2'],\n",
    "    'D': ['D0', 'D1', 'D2']\n",
    "  }, \n",
    "  index = ['K0', 'K2', 'K3']\n",
    ")\n",
    "\n",
    "print(df5)\n",
    "print(df6)"
   ]
  },
  {
   "cell_type": "code",
   "execution_count": 34,
   "id": "a1d84955",
   "metadata": {},
   "outputs": [
    {
     "name": "stdout",
     "output_type": "stream",
     "text": [
      "     A   B   C   D\n",
      "K0  A0  B0  C0  D0\n",
      "K2  A2  B2  C1  D1\n"
     ]
    }
   ],
   "source": [
    "joined = df5.join(df6, how='inner')\n",
    "print(joined)"
   ]
  }
 ],
 "metadata": {
  "kernelspec": {
   "display_name": "Python 3",
   "language": "python",
   "name": "python3"
  },
  "language_info": {
   "codemirror_mode": {
    "name": "ipython",
    "version": 3
   },
   "file_extension": ".py",
   "mimetype": "text/x-python",
   "name": "python",
   "nbconvert_exporter": "python",
   "pygments_lexer": "ipython3",
   "version": "3.13.1"
  }
 },
 "nbformat": 4,
 "nbformat_minor": 5
}
