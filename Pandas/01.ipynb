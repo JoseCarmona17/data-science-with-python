{
 "cells": [
  {
   "cell_type": "markdown",
   "id": "2cbc8c8b",
   "metadata": {},
   "source": [
    "# Pandas: Dataset"
   ]
  },
  {
   "cell_type": "code",
   "execution_count": 3,
   "id": "fffa545f",
   "metadata": {},
   "outputs": [],
   "source": [
    "import pandas as pd"
   ]
  },
  {
   "cell_type": "code",
   "execution_count": 4,
   "id": "dc92924e",
   "metadata": {},
   "outputs": [
    {
     "name": "stdout",
     "output_type": "stream",
     "text": [
      "       InvoiceNo StockCode                          Description  Quantity  \\\n",
      "0         536365    85123A   WHITE HANGING HEART T-LIGHT HOLDER         6   \n",
      "1         536365     71053                  WHITE METAL LANTERN         6   \n",
      "2         536365    84406B       CREAM CUPID HEARTS COAT HANGER         8   \n",
      "3         536365    84029G  KNITTED UNION FLAG HOT WATER BOTTLE         6   \n",
      "4         536365    84029E       RED WOOLLY HOTTIE WHITE HEART.         6   \n",
      "...          ...       ...                                  ...       ...   \n",
      "541904    581587     22613          PACK OF 20 SPACEBOY NAPKINS        12   \n",
      "541905    581587     22899         CHILDREN'S APRON DOLLY GIRL          6   \n",
      "541906    581587     23254        CHILDRENS CUTLERY DOLLY GIRL          4   \n",
      "541907    581587     23255      CHILDRENS CUTLERY CIRCUS PARADE         4   \n",
      "541908    581587     22138        BAKING SET 9 PIECE RETROSPOT          3   \n",
      "\n",
      "          InvoiceDate  UnitPrice  CustomerID         Country  \n",
      "0        12/1/10 8:26       2.55     17850.0  United Kingdom  \n",
      "1        12/1/10 8:26       3.39     17850.0  United Kingdom  \n",
      "2        12/1/10 8:26       2.75     17850.0  United Kingdom  \n",
      "3        12/1/10 8:26       3.39     17850.0  United Kingdom  \n",
      "4        12/1/10 8:26       3.39     17850.0  United Kingdom  \n",
      "...               ...        ...         ...             ...  \n",
      "541904  12/9/11 12:50       0.85     12680.0          France  \n",
      "541905  12/9/11 12:50       2.10     12680.0          France  \n",
      "541906  12/9/11 12:50       4.15     12680.0          France  \n",
      "541907  12/9/11 12:50       4.15     12680.0          France  \n",
      "541908  12/9/11 12:50       4.95     12680.0          France  \n",
      "\n",
      "[541909 rows x 8 columns]\n"
     ]
    }
   ],
   "source": [
    "retail_data = pd.read_csv('Online_Retail.csv', encoding='latin1')\n",
    "# Excel\n",
    "# real_data = pd.read_csv('Online_Retail.csv', encoding='latin1')\n",
    "\n",
    "# JSON\n",
    "# data_json = pd.read_json(path)\n",
    "# print(type(retail_data))\n",
    "print(retail_data)"
   ]
  },
  {
   "cell_type": "markdown",
   "id": "40ed48c9",
   "metadata": {},
   "source": [
    "# DataFrames en Pandas\n",
    "es una estructura de datos bidimensional semiestructural similar a una tabla, a una base de datos o una hoja de calculo de excel, contiene filas y tambien columnas, donde cada columna puede tener un tipo de dato diferente lo qeu lko hace ideal para el analisis de datos."
   ]
  },
  {
   "cell_type": "code",
   "execution_count": 5,
   "id": "012876a9",
   "metadata": {},
   "outputs": [
    {
     "name": "stdout",
     "output_type": "stream",
     "text": [
      "  InvoiceNo StockCode                          Description  Quantity  \\\n",
      "0    536365    85123A   WHITE HANGING HEART T-LIGHT HOLDER         6   \n",
      "1    536365     71053                  WHITE METAL LANTERN         6   \n",
      "2    536365    84406B       CREAM CUPID HEARTS COAT HANGER         8   \n",
      "3    536365    84029G  KNITTED UNION FLAG HOT WATER BOTTLE         6   \n",
      "4    536365    84029E       RED WOOLLY HOTTIE WHITE HEART.         6   \n",
      "\n",
      "    InvoiceDate  UnitPrice  CustomerID         Country  \n",
      "0  12/1/10 8:26       2.55     17850.0  United Kingdom  \n",
      "1  12/1/10 8:26       3.39     17850.0  United Kingdom  \n",
      "2  12/1/10 8:26       2.75     17850.0  United Kingdom  \n",
      "3  12/1/10 8:26       3.39     17850.0  United Kingdom  \n",
      "4  12/1/10 8:26       3.39     17850.0  United Kingdom  \n"
     ]
    }
   ],
   "source": [
    "print(retail_data.head())"
   ]
  },
  {
   "cell_type": "code",
   "execution_count": 7,
   "id": "299c12a6",
   "metadata": {},
   "outputs": [
    {
     "name": "stdout",
     "output_type": "stream",
     "text": [
      "   A  B  C\n",
      "0  1  2  3\n",
      "1  4  5  6\n",
      "2  7  8  9\n"
     ]
    }
   ],
   "source": [
    "import numpy as np\n",
    "\n",
    "data = np.array([[1,2,3],[4,5,6],[7,8,9]])\n",
    "dt_from_array = pd.DataFrame(data, columns=['A', 'B', 'C'])\n",
    "print(dt_from_array)"
   ]
  },
  {
   "cell_type": "code",
   "execution_count": 9,
   "id": "7b8fdcc5",
   "metadata": {},
   "outputs": [
    {
     "name": "stdout",
     "output_type": "stream",
     "text": [
      "   ID  Name  Age\n",
      "0   1  Jhon   22\n",
      "1   2  Jane   23\n",
      "2   3   Doe   24\n"
     ]
    }
   ],
   "source": [
    "data = [[1, 'Jhon', 22],[2, 'Jane', 23],[3, 'Doe', 24]]\n",
    "df_from_list = pd.DataFrame(data, columns=['ID', 'Name', 'Age'])\n",
    "print(df_from_list)"
   ]
  },
  {
   "cell_type": "code",
   "execution_count": null,
   "id": "ba0d72e0",
   "metadata": {},
   "outputs": [
    {
     "name": "stdout",
     "output_type": "stream",
     "text": [
      "   ID  Name  Age\n",
      "0   1  Jhon   22\n",
      "1   2  Jane   23\n"
     ]
    }
   ],
   "source": [
    "data = [{'ID': 1,\n",
    "         'Name': 'Jhon',\n",
    "         'Age': 22},{\n",
    "            'ID': 2,\n",
    "            'Name': 'Jane',\n",
    "            'Age': 23\n",
    "            }]\n",
    "\n",
    "dt_from_dict_list = pd.DataFrame(data)\n",
    "print(dt_from_dict_list)"
   ]
  },
  {
   "cell_type": "code",
   "execution_count": 14,
   "id": "3e5db631",
   "metadata": {},
   "outputs": [
    {
     "name": "stdout",
     "output_type": "stream",
     "text": [
      "   ID  Name  Age\n",
      "0   1  Jhon   22\n",
      "1   2  Jane   23\n",
      "2   3   Doe   24\n"
     ]
    }
   ],
   "source": [
    "data = {'ID': [1,2,3], 'Name': ['Jhon', 'Jane', 'Doe'], 'Age': [22, 23, 24]}\n",
    "dt_from_dict = pd.DataFrame(data)\n",
    "print(dt_from_dict)"
   ]
  },
  {
   "cell_type": "markdown",
   "id": "6cb01d56",
   "metadata": {},
   "source": [
    "# Descomponer DataFrame"
   ]
  },
  {
   "cell_type": "markdown",
   "id": "a2fcb4eb",
   "metadata": {},
   "source": [
    "## Serie"
   ]
  },
  {
   "cell_type": "code",
   "execution_count": 16,
   "id": "d39fd670",
   "metadata": {},
   "outputs": [
    {
     "name": "stdout",
     "output_type": "stream",
     "text": [
      "   ID  Name  Age\n",
      "0   1  Jhon   22\n",
      "1   2  Jane   23\n",
      "2   3   Doe   24\n"
     ]
    }
   ],
   "source": [
    "data = {'ID': pd.Series([1,2,3]), 'Name': pd.Series(['Jhon', 'Jane', 'Doe']), 'Age': pd.Series([22, 23, 24])}\n",
    "dt_from_dict_series = pd.DataFrame(data)\n",
    "print(dt_from_dict_series)"
   ]
  }
 ],
 "metadata": {
  "kernelspec": {
   "display_name": "Python 3",
   "language": "python",
   "name": "python3"
  },
  "language_info": {
   "codemirror_mode": {
    "name": "ipython",
    "version": 3
   },
   "file_extension": ".py",
   "mimetype": "text/x-python",
   "name": "python",
   "nbconvert_exporter": "python",
   "pygments_lexer": "ipython3",
   "version": "3.13.1"
  }
 },
 "nbformat": 4,
 "nbformat_minor": 5
}
