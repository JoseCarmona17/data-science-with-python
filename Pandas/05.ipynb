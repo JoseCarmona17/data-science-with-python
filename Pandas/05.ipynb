{
 "cells": [
  {
   "cell_type": "markdown",
   "id": "d2c925a6",
   "metadata": {},
   "source": [
    "# Filtrado de datos"
   ]
  },
  {
   "cell_type": "code",
   "execution_count": 7,
   "id": "82bd9090",
   "metadata": {},
   "outputs": [
    {
     "name": "stderr",
     "output_type": "stream",
     "text": [
      "C:\\Users\\Josea\\AppData\\Local\\Temp\\ipykernel_10876\\1479129416.py:6: UserWarning: Could not infer format, so each element will be parsed individually, falling back to `dateutil`. To ensure parsing is consistent and as-expected, please specify a format.\n",
      "  sales_data['InvoiceDate'] = pd.to_datetime(sales_data['InvoiceDate'])\n"
     ]
    },
    {
     "name": "stdout",
     "output_type": "stream",
     "text": [
      "  InvoiceNo StockCode                          Description  Quantity  \\\n",
      "0    536365    85123A   WHITE HANGING HEART T-LIGHT HOLDER         6   \n",
      "1    536365     71053                  WHITE METAL LANTERN         6   \n",
      "2    536365    84406B       CREAM CUPID HEARTS COAT HANGER         8   \n",
      "3    536365    84029G  KNITTED UNION FLAG HOT WATER BOTTLE         6   \n",
      "4    536365    84029E       RED WOOLLY HOTTIE WHITE HEART.         6   \n",
      "\n",
      "          InvoiceDate  UnitPrice  CustomerID         Country  TotalPrice  \n",
      "0 2010-12-01 08:26:00       2.55     17850.0  United Kingdom       15.30  \n",
      "1 2010-12-01 08:26:00       3.39     17850.0  United Kingdom       20.34  \n",
      "2 2010-12-01 08:26:00       2.75     17850.0  United Kingdom       22.00  \n",
      "3 2010-12-01 08:26:00       3.39     17850.0  United Kingdom       20.34  \n",
      "4 2010-12-01 08:26:00       3.39     17850.0  United Kingdom       20.34  \n"
     ]
    }
   ],
   "source": [
    "import pandas as pd\n",
    "\n",
    "sales_data = pd.read_csv('Online_Retail.csv', encoding='latin1')\n",
    "\n",
    "# COnvertir la columna 'InvoiceDate' en datetime\n",
    "sales_data['InvoiceDate'] = pd.to_datetime(sales_data['InvoiceDate'])\n",
    "\n",
    "# Eliminar filas con valores nulos en las columnas criticas\n",
    "sales_data.dropna(subset=['CustomerID', 'InvoiceDate'], inplace=True)\n",
    "\n",
    "#Crear una nueva columna 'TotalPrice' que es el producto de 'Quantity' y 'UnitPrice'\n",
    "sales_data['TotalPrice'] = sales_data['Quantity'] * sales_data['UnitPrice']\n",
    "\n",
    "print(sales_data.head())"
   ]
  },
  {
   "cell_type": "code",
   "execution_count": 8,
   "id": "f8115cb6",
   "metadata": {},
   "outputs": [
    {
     "name": "stdout",
     "output_type": "stream",
     "text": [
      "  InvoiceNo StockCode                          Description  Quantity  \\\n",
      "0    536365    85123A   WHITE HANGING HEART T-LIGHT HOLDER         6   \n",
      "1    536365     71053                  WHITE METAL LANTERN         6   \n",
      "2    536365    84406B       CREAM CUPID HEARTS COAT HANGER         8   \n",
      "3    536365    84029G  KNITTED UNION FLAG HOT WATER BOTTLE         6   \n",
      "4    536365    84029E       RED WOOLLY HOTTIE WHITE HEART.         6   \n",
      "\n",
      "          InvoiceDate  UnitPrice  CustomerID         Country  TotalPrice  \n",
      "0 2010-12-01 08:26:00       2.55     17850.0  United Kingdom       15.30  \n",
      "1 2010-12-01 08:26:00       3.39     17850.0  United Kingdom       20.34  \n",
      "2 2010-12-01 08:26:00       2.75     17850.0  United Kingdom       22.00  \n",
      "3 2010-12-01 08:26:00       3.39     17850.0  United Kingdom       20.34  \n",
      "4 2010-12-01 08:26:00       3.39     17850.0  United Kingdom       20.34  \n"
     ]
    }
   ],
   "source": [
    "# Filtar ventas en reino unido\n",
    "uk_sales = sales_data[sales_data['Country'] == 'United Kingdom']\n",
    "print(uk_sales.head())"
   ]
  },
  {
   "cell_type": "code",
   "execution_count": 9,
   "id": "8de8b35b",
   "metadata": {},
   "outputs": [
    {
     "name": "stdout",
     "output_type": "stream",
     "text": [
      "       InvoiceNo StockCode                      Description  Quantity  \\\n",
      "9         536367     84879    ASSORTED COLOUR BIRD ORNAMENT        32   \n",
      "26        536370     22728        ALARM CLOCK BAKELIKE PINK        24   \n",
      "27        536370     22727        ALARM CLOCK BAKELIKE RED         24   \n",
      "28        536370     22726       ALARM CLOCK BAKELIKE GREEN        12   \n",
      "29        536370     21724  PANDA AND BUNNIES STICKER SHEET        12   \n",
      "...          ...       ...                              ...       ...   \n",
      "541894    581587     22631         CIRCUS PARADE LUNCH BOX         12   \n",
      "541895    581587     22556   PLASTERS IN TIN CIRCUS PARADE         12   \n",
      "541896    581587     22555        PLASTERS IN TIN STRONGMAN        12   \n",
      "541902    581587     22629              SPACEBOY LUNCH BOX         12   \n",
      "541904    581587     22613      PACK OF 20 SPACEBOY NAPKINS        12   \n",
      "\n",
      "               InvoiceDate  UnitPrice  CustomerID         Country  TotalPrice  \n",
      "9      2010-12-01 08:34:00       1.69     13047.0  United Kingdom       54.08  \n",
      "26     2010-12-01 08:45:00       3.75     12583.0          France       90.00  \n",
      "27     2010-12-01 08:45:00       3.75     12583.0          France       90.00  \n",
      "28     2010-12-01 08:45:00       3.75     12583.0          France       45.00  \n",
      "29     2010-12-01 08:45:00       0.85     12583.0          France       10.20  \n",
      "...                    ...        ...         ...             ...         ...  \n",
      "541894 2011-12-09 12:50:00       1.95     12680.0          France       23.40  \n",
      "541895 2011-12-09 12:50:00       1.65     12680.0          France       19.80  \n",
      "541896 2011-12-09 12:50:00       1.65     12680.0          France       19.80  \n",
      "541902 2011-12-09 12:50:00       1.95     12680.0          France       23.40  \n",
      "541904 2011-12-09 12:50:00       0.85     12680.0          France       10.20  \n",
      "\n",
      "[126312 rows x 9 columns]\n"
     ]
    }
   ],
   "source": [
    "high_quantity_sales = sales_data[sales_data['Quantity'] > 10]\n",
    "print(high_quantity_sales)"
   ]
  },
  {
   "cell_type": "code",
   "execution_count": 11,
   "id": "e41910b4",
   "metadata": {},
   "outputs": [
    {
     "name": "stdout",
     "output_type": "stream",
     "text": [
      "       InvoiceNo StockCode                     Description  Quantity  \\\n",
      "181       536387     22466   FAIRY TALE COTTAGE NIGHTLIGHT       432   \n",
      "182       536387     21731   RED TOADSTOOL LED NIGHT LIGHT       432   \n",
      "730       536437     17021          NAMASTE SWAGAT INCENSE       600   \n",
      "870       536477     21137        BLACK RECORD COVER FRAME       480   \n",
      "2364      536584    84029E  RED WOOLLY HOTTIE WHITE HEART.       384   \n",
      "...          ...       ...                             ...       ...   \n",
      "540060    581457     22189         CREAM HEART CARD HOLDER       324   \n",
      "540061    581457     23543             WALL ART KEEP CALM        698   \n",
      "540070    581458     22197                  POPCORN HOLDER      1500   \n",
      "540071    581459     22197                  POPCORN HOLDER      1200   \n",
      "540421    581483     23843     PAPER CRAFT , LITTLE BIRDIE     80995   \n",
      "\n",
      "               InvoiceDate  UnitPrice  CustomerID         Country  TotalPrice  \n",
      "181    2010-12-01 09:58:00       1.45     16029.0  United Kingdom      626.40  \n",
      "182    2010-12-01 09:58:00       1.25     16029.0  United Kingdom      540.00  \n",
      "730    2010-12-01 12:12:00       0.24     13694.0  United Kingdom      144.00  \n",
      "870    2010-12-01 12:27:00       3.39     16210.0  United Kingdom     1627.20  \n",
      "2364   2010-12-01 16:22:00       2.95     13777.0  United Kingdom     1132.80  \n",
      "...                    ...        ...         ...             ...         ...  \n",
      "540060 2011-12-08 18:43:00       3.39     18102.0  United Kingdom     1098.36  \n",
      "540061 2011-12-08 18:43:00       4.15     18102.0  United Kingdom     2896.70  \n",
      "540070 2011-12-08 18:45:00       0.72     17949.0  United Kingdom     1080.00  \n",
      "540071 2011-12-08 18:46:00       0.72     17949.0  United Kingdom      864.00  \n",
      "540421 2011-12-09 09:15:00       2.08     16446.0  United Kingdom   168469.60  \n",
      "\n",
      "[727 rows x 9 columns]\n"
     ]
    }
   ],
   "source": [
    "uk_high_quantity_sales = sales_data[(sales_data['Country'] == 'United Kingdom') & (sales_data['Quantity'] > 300)]\n",
    "print(uk_high_quantity_sales)"
   ]
  },
  {
   "cell_type": "code",
   "execution_count": null,
   "id": "202d2e53",
   "metadata": {},
   "outputs": [
    {
     "name": "stdout",
     "output_type": "stream",
     "text": [
      "      InvoiceNo StockCode                          Description  Quantity  \\\n",
      "0        536365    85123A   WHITE HANGING HEART T-LIGHT HOLDER         6   \n",
      "1        536365     71053                  WHITE METAL LANTERN         6   \n",
      "2        536365    84406B       CREAM CUPID HEARTS COAT HANGER         8   \n",
      "3        536365    84029G  KNITTED UNION FLAG HOT WATER BOTTLE         6   \n",
      "4        536365    84029E       RED WOOLLY HOTTIE WHITE HEART.         6   \n",
      "...         ...       ...                                  ...       ...   \n",
      "42448    539988     84380    SET OF 3 BUTTERFLY COOKIE CUTTERS         1   \n",
      "42449    539988    84849D                HOT BATHS SOAP HOLDER         1   \n",
      "42450    539988    84849B               FAIRY SOAP SOAP HOLDER         1   \n",
      "42451    539988     22854          CREAM SWEETHEART EGG HOLDER         2   \n",
      "42452    539988    47559B                  TEA TIME OVEN GLOVE         2   \n",
      "\n",
      "              InvoiceDate  UnitPrice  CustomerID         Country  TotalPrice  \n",
      "0     2010-12-01 08:26:00       2.55     17850.0  United Kingdom       15.30  \n",
      "1     2010-12-01 08:26:00       3.39     17850.0  United Kingdom       20.34  \n",
      "2     2010-12-01 08:26:00       2.75     17850.0  United Kingdom       22.00  \n",
      "3     2010-12-01 08:26:00       3.39     17850.0  United Kingdom       20.34  \n",
      "4     2010-12-01 08:26:00       3.39     17850.0  United Kingdom       20.34  \n",
      "...                   ...        ...         ...             ...         ...  \n",
      "42448 2010-12-23 16:06:00       1.25     18116.0  United Kingdom        1.25  \n",
      "42449 2010-12-23 16:06:00       1.69     18116.0  United Kingdom        1.69  \n",
      "42450 2010-12-23 16:06:00       1.69     18116.0  United Kingdom        1.69  \n",
      "42451 2010-12-23 16:06:00       4.95     18116.0  United Kingdom        9.90  \n",
      "42452 2010-12-23 16:06:00       1.25     18116.0  United Kingdom        2.50  \n",
      "\n",
      "[26850 rows x 9 columns]\n"
     ]
    }
   ],
   "source": [
    "sales_2011 = sales_data[sales_data['InvoiceDate'].dt.year == 2011] # Filtrar ventas de 2011\n",
    "print(sales_2011)"
   ]
  },
  {
   "cell_type": "code",
   "execution_count": 14,
   "id": "fd6613b2",
   "metadata": {},
   "outputs": [
    {
     "name": "stdout",
     "output_type": "stream",
     "text": [
      "      InvoiceNo StockCode                          Description  Quantity  \\\n",
      "0        536365    85123A   WHITE HANGING HEART T-LIGHT HOLDER         6   \n",
      "1        536365     71053                  WHITE METAL LANTERN         6   \n",
      "2        536365    84406B       CREAM CUPID HEARTS COAT HANGER         8   \n",
      "3        536365    84029G  KNITTED UNION FLAG HOT WATER BOTTLE         6   \n",
      "4        536365    84029E       RED WOOLLY HOTTIE WHITE HEART.         6   \n",
      "...         ...       ...                                  ...       ...   \n",
      "42448    539988     84380    SET OF 3 BUTTERFLY COOKIE CUTTERS         1   \n",
      "42449    539988    84849D                HOT BATHS SOAP HOLDER         1   \n",
      "42450    539988    84849B               FAIRY SOAP SOAP HOLDER         1   \n",
      "42451    539988     22854          CREAM SWEETHEART EGG HOLDER         2   \n",
      "42452    539988    47559B                  TEA TIME OVEN GLOVE         2   \n",
      "\n",
      "              InvoiceDate  UnitPrice  CustomerID         Country  TotalPrice  \n",
      "0     2010-12-01 08:26:00       2.55     17850.0  United Kingdom       15.30  \n",
      "1     2010-12-01 08:26:00       3.39     17850.0  United Kingdom       20.34  \n",
      "2     2010-12-01 08:26:00       2.75     17850.0  United Kingdom       22.00  \n",
      "3     2010-12-01 08:26:00       3.39     17850.0  United Kingdom       20.34  \n",
      "4     2010-12-01 08:26:00       3.39     17850.0  United Kingdom       20.34  \n",
      "...                   ...        ...         ...             ...         ...  \n",
      "42448 2010-12-23 16:06:00       1.25     18116.0  United Kingdom        1.25  \n",
      "42449 2010-12-23 16:06:00       1.69     18116.0  United Kingdom        1.69  \n",
      "42450 2010-12-23 16:06:00       1.69     18116.0  United Kingdom        1.69  \n",
      "42451 2010-12-23 16:06:00       4.95     18116.0  United Kingdom        9.90  \n",
      "42452 2010-12-23 16:06:00       1.25     18116.0  United Kingdom        2.50  \n",
      "\n",
      "[26850 rows x 9 columns]\n"
     ]
    }
   ],
   "source": [
    "sales_2010 = sales_data[sales_data['InvoiceDate'].dt.year == 2010] # Filtrar ventas de 2010\n",
    "print(sales_2010)"
   ]
  },
  {
   "cell_type": "code",
   "execution_count": 15,
   "id": "0a0d407a",
   "metadata": {},
   "outputs": [
    {
     "name": "stdout",
     "output_type": "stream",
     "text": [
      "      InvoiceNo StockCode                          Description  Quantity  \\\n",
      "0        536365    85123A   WHITE HANGING HEART T-LIGHT HOLDER         6   \n",
      "1        536365     71053                  WHITE METAL LANTERN         6   \n",
      "2        536365    84406B       CREAM CUPID HEARTS COAT HANGER         8   \n",
      "3        536365    84029G  KNITTED UNION FLAG HOT WATER BOTTLE         6   \n",
      "4        536365    84029E       RED WOOLLY HOTTIE WHITE HEART.         6   \n",
      "...         ...       ...                                  ...       ...   \n",
      "42448    539988     84380    SET OF 3 BUTTERFLY COOKIE CUTTERS         1   \n",
      "42449    539988    84849D                HOT BATHS SOAP HOLDER         1   \n",
      "42450    539988    84849B               FAIRY SOAP SOAP HOLDER         1   \n",
      "42451    539988     22854          CREAM SWEETHEART EGG HOLDER         2   \n",
      "42452    539988    47559B                  TEA TIME OVEN GLOVE         2   \n",
      "\n",
      "              InvoiceDate  UnitPrice  CustomerID         Country  TotalPrice  \n",
      "0     2010-12-01 08:26:00       2.55     17850.0  United Kingdom       15.30  \n",
      "1     2010-12-01 08:26:00       3.39     17850.0  United Kingdom       20.34  \n",
      "2     2010-12-01 08:26:00       2.75     17850.0  United Kingdom       22.00  \n",
      "3     2010-12-01 08:26:00       3.39     17850.0  United Kingdom       20.34  \n",
      "4     2010-12-01 08:26:00       3.39     17850.0  United Kingdom       20.34  \n",
      "...                   ...        ...         ...             ...         ...  \n",
      "42448 2010-12-23 16:06:00       1.25     18116.0  United Kingdom        1.25  \n",
      "42449 2010-12-23 16:06:00       1.69     18116.0  United Kingdom        1.69  \n",
      "42450 2010-12-23 16:06:00       1.69     18116.0  United Kingdom        1.69  \n",
      "42451 2010-12-23 16:06:00       4.95     18116.0  United Kingdom        9.90  \n",
      "42452 2010-12-23 16:06:00       1.25     18116.0  United Kingdom        2.50  \n",
      "\n",
      "[26850 rows x 9 columns]\n"
     ]
    }
   ],
   "source": [
    "sales_dec_2010 = sales_data[(sales_data['InvoiceDate'].dt.year == 2010) & (sales_data['InvoiceDate'].dt.month == 12)] # Filtrar ventas de diciembre de 2010\n",
    "print(sales_dec_2010)"
   ]
  }
 ],
 "metadata": {
  "kernelspec": {
   "display_name": "Python 3",
   "language": "python",
   "name": "python3"
  },
  "language_info": {
   "codemirror_mode": {
    "name": "ipython",
    "version": 3
   },
   "file_extension": ".py",
   "mimetype": "text/x-python",
   "name": "python",
   "nbconvert_exporter": "python",
   "pygments_lexer": "ipython3",
   "version": "3.13.1"
  }
 },
 "nbformat": 4,
 "nbformat_minor": 5
}
